{
 "cells": [
  {
   "cell_type": "markdown",
   "id": "b7761d6e",
   "metadata": {},
   "source": [
    "# Đề tài: Web AI Quản Lý Tài Liệu Công Văn, Văn Bản Hành Chính\n",
    "\n",
    "Hệ thống web ứng dụng AI để lưu trữ, quản lý, trích xuất thông tin và hỗ trợ ghi chú thông minh cho công văn, văn bản hành chính. Hệ thống hỗ trợ phân quyền truy cập, tích hợp AI tóm tắt, phân loại, và khai thác metadata tự động từ tài liệu số hóa."
   ]
  },
  {
   "cell_type": "markdown",
   "id": "50386ec2",
   "metadata": {},
   "source": [
    "## 1. Kiến trúc tổng thể AI_PROJECT\n",
    "\n",
    "- **Backend:** Django (quản lý người dùng, phân quyền, API nội bộ), FastAPI (AI, tích hợp open-notebook, OCR, tóm tắt)\n",
    "- **AI & NLP:** Tích hợp open-notebook, mô hình AI (OpenAI, Gemini, Ollama, v.v.)\n",
    "- **Frontend:** Bootstrap, Chart.js, giao diện quản lý tài liệu, thống kê\n",
    "- **Database:** Lưu trữ metadata, phân quyền, lịch sử truy cập\n",
    "- **Tích hợp:** OCR, AI tóm tắt, trích xuất metadata, ghi chú AI"
   ]
  },
  {
   "cell_type": "markdown",
   "id": "eceb347b",
   "metadata": {},
   "source": [
    "## 2. Cơ cấu tổ chức & phân quyền\n",
    "\n",
    "- **Ban Giám Đốc:** Quản lý, điều hành tổng thể, duyệt/chỉnh sửa mọi tài liệu\n",
    "- **Các phòng ban:** Văn phòng, Nhân sự, Tài chính kế toán, Nghiên cứu phát triển, Giám đốc dự án\n",
    "- **Nhân viên:** Xem/tải tài liệu liên quan, đề xuất chỉnh sửa\n",
    "- **Học viên:** Xem/tải tài liệu đào tạo đã đăng ký\n",
    "\n",
    "**Phân quyền tài liệu:**  \n",
    "- Ban Giám Đốc: Xem, tải, chỉnh sửa, duyệt tất cả  \n",
    "- Trưởng phòng: Xem, tải, chỉnh sửa tài liệu phòng  \n",
    "- Nhân viên: Xem, tải tài liệu liên quan, đề xuất chỉnh sửa  \n",
    "- Giám đốc dự án: Xem, tải, chỉnh sửa tài liệu dự án  \n",
    "- Học viên: Xem, tải tài liệu khóa học  "
   ]
  },
  {
   "cell_type": "markdown",
   "id": "0a2196ee",
   "metadata": {},
   "source": [
    "## 3. Phân loại tài liệu\n",
    "\n",
    "- **Tài liệu chung:** Công văn đi đến, văn bản pháp quy, hợp đồng, báo giá\n",
    "- **Tài liệu dự án:** Tài liệu dự án, báo cáo tiến độ, kết quả\n",
    "- **Tài liệu đào tạo:** Tài liệu nội bộ, khóa học CNTT\n",
    "- **Thư viện multimedia:** Hình ảnh, video, âm thanh"
   ]
  },
  {
   "cell_type": "code",
   "execution_count": 6,
   "id": "8334449c",
   "metadata": {},
   "outputs": [
    {
     "ename": "ImproperlyConfigured",
     "evalue": "Requested setting INSTALLED_APPS, but settings are not configured. You must either define the environment variable DJANGO_SETTINGS_MODULE or call settings.configure() before accessing settings.",
     "output_type": "error",
     "traceback": [
      "\u001b[31m---------------------------------------------------------------------------\u001b[39m",
      "\u001b[31mImproperlyConfigured\u001b[39m                      Traceback (most recent call last)",
      "\u001b[36mCell\u001b[39m\u001b[36m \u001b[39m\u001b[32mIn[6]\u001b[39m\u001b[32m, line 3\u001b[39m\n\u001b[32m      1\u001b[39m \u001b[38;5;66;03m# Mô hình dữ liệu Django (rút gọn)\u001b[39;00m\n\u001b[32m      2\u001b[39m \u001b[38;5;28;01mfrom\u001b[39;00m\u001b[38;5;250m \u001b[39m\u001b[34;01mdjango\u001b[39;00m\u001b[34;01m.\u001b[39;00m\u001b[34;01mdb\u001b[39;00m\u001b[38;5;250m \u001b[39m\u001b[38;5;28;01mimport\u001b[39;00m models\n\u001b[32m----> \u001b[39m\u001b[32m3\u001b[39m \u001b[38;5;28;01mfrom\u001b[39;00m\u001b[38;5;250m \u001b[39m\u001b[34;01mdjango\u001b[39;00m\u001b[34;01m.\u001b[39;00m\u001b[34;01mcontrib\u001b[39;00m\u001b[34;01m.\u001b[39;00m\u001b[34;01mauth\u001b[39;00m\u001b[34;01m.\u001b[39;00m\u001b[34;01mmodels\u001b[39;00m\u001b[38;5;250m \u001b[39m\u001b[38;5;28;01mimport\u001b[39;00m User\n\u001b[32m      5\u001b[39m \u001b[38;5;28;01mclass\u001b[39;00m\u001b[38;5;250m \u001b[39m\u001b[34;01mDepartment\u001b[39;00m(models.Model):\n\u001b[32m      6\u001b[39m     name = models.CharField(max_length=\u001b[32m100\u001b[39m)\n",
      "\u001b[36mFile \u001b[39m\u001b[32mc:\\Users\\Admin\\AppData\\Local\\Programs\\Python\\Python311\\Lib\\site-packages\\django\\contrib\\auth\\models.py:3\u001b[39m\n\u001b[32m      1\u001b[39m \u001b[38;5;28;01mfrom\u001b[39;00m\u001b[38;5;250m \u001b[39m\u001b[34;01mdjango\u001b[39;00m\u001b[34;01m.\u001b[39;00m\u001b[34;01mapps\u001b[39;00m\u001b[38;5;250m \u001b[39m\u001b[38;5;28;01mimport\u001b[39;00m apps\n\u001b[32m      2\u001b[39m \u001b[38;5;28;01mfrom\u001b[39;00m\u001b[38;5;250m \u001b[39m\u001b[34;01mdjango\u001b[39;00m\u001b[34;01m.\u001b[39;00m\u001b[34;01mcontrib\u001b[39;00m\u001b[38;5;250m \u001b[39m\u001b[38;5;28;01mimport\u001b[39;00m auth\n\u001b[32m----> \u001b[39m\u001b[32m3\u001b[39m \u001b[38;5;28;01mfrom\u001b[39;00m\u001b[38;5;250m \u001b[39m\u001b[34;01mdjango\u001b[39;00m\u001b[34;01m.\u001b[39;00m\u001b[34;01mcontrib\u001b[39;00m\u001b[34;01m.\u001b[39;00m\u001b[34;01mauth\u001b[39;00m\u001b[34;01m.\u001b[39;00m\u001b[34;01mbase_user\u001b[39;00m\u001b[38;5;250m \u001b[39m\u001b[38;5;28;01mimport\u001b[39;00m AbstractBaseUser, BaseUserManager\n\u001b[32m      4\u001b[39m \u001b[38;5;28;01mfrom\u001b[39;00m\u001b[38;5;250m \u001b[39m\u001b[34;01mdjango\u001b[39;00m\u001b[34;01m.\u001b[39;00m\u001b[34;01mcontrib\u001b[39;00m\u001b[34;01m.\u001b[39;00m\u001b[34;01mauth\u001b[39;00m\u001b[34;01m.\u001b[39;00m\u001b[34;01mhashers\u001b[39;00m\u001b[38;5;250m \u001b[39m\u001b[38;5;28;01mimport\u001b[39;00m make_password\n\u001b[32m      5\u001b[39m \u001b[38;5;28;01mfrom\u001b[39;00m\u001b[38;5;250m \u001b[39m\u001b[34;01mdjango\u001b[39;00m\u001b[34;01m.\u001b[39;00m\u001b[34;01mcontrib\u001b[39;00m\u001b[34;01m.\u001b[39;00m\u001b[34;01mcontenttypes\u001b[39;00m\u001b[34;01m.\u001b[39;00m\u001b[34;01mmodels\u001b[39;00m\u001b[38;5;250m \u001b[39m\u001b[38;5;28;01mimport\u001b[39;00m ContentType\n",
      "\u001b[36mFile \u001b[39m\u001b[32mc:\\Users\\Admin\\AppData\\Local\\Programs\\Python\\Python311\\Lib\\site-packages\\django\\contrib\\auth\\base_user.py:57\u001b[39m\n\u001b[32m     53\u001b[39m     \u001b[38;5;28;01mdef\u001b[39;00m\u001b[38;5;250m \u001b[39m\u001b[34mget_by_natural_key\u001b[39m(\u001b[38;5;28mself\u001b[39m, username):\n\u001b[32m     54\u001b[39m         \u001b[38;5;28;01mreturn\u001b[39;00m \u001b[38;5;28mself\u001b[39m.get(**{\u001b[38;5;28mself\u001b[39m.model.USERNAME_FIELD: username})\n\u001b[32m---> \u001b[39m\u001b[32m57\u001b[39m \u001b[38;5;28;43;01mclass\u001b[39;49;00m\u001b[38;5;250;43m \u001b[39;49m\u001b[34;43;01mAbstractBaseUser\u001b[39;49;00m\u001b[43m(\u001b[49m\u001b[43mmodels\u001b[49m\u001b[43m.\u001b[49m\u001b[43mModel\u001b[49m\u001b[43m)\u001b[49m\u001b[43m:\u001b[49m\n\u001b[32m     58\u001b[39m \u001b[43m    \u001b[49m\u001b[43mpassword\u001b[49m\u001b[43m \u001b[49m\u001b[43m=\u001b[49m\u001b[43m \u001b[49m\u001b[43mmodels\u001b[49m\u001b[43m.\u001b[49m\u001b[43mCharField\u001b[49m\u001b[43m(\u001b[49m\u001b[43m_\u001b[49m\u001b[43m(\u001b[49m\u001b[33;43m\"\u001b[39;49m\u001b[33;43mpassword\u001b[39;49m\u001b[33;43m\"\u001b[39;49m\u001b[43m)\u001b[49m\u001b[43m,\u001b[49m\u001b[43m \u001b[49m\u001b[43mmax_length\u001b[49m\u001b[43m=\u001b[49m\u001b[32;43m128\u001b[39;49m\u001b[43m)\u001b[49m\n\u001b[32m     59\u001b[39m \u001b[43m    \u001b[49m\u001b[43mlast_login\u001b[49m\u001b[43m \u001b[49m\u001b[43m=\u001b[49m\u001b[43m \u001b[49m\u001b[43mmodels\u001b[49m\u001b[43m.\u001b[49m\u001b[43mDateTimeField\u001b[49m\u001b[43m(\u001b[49m\u001b[43m_\u001b[49m\u001b[43m(\u001b[49m\u001b[33;43m\"\u001b[39;49m\u001b[33;43mlast login\u001b[39;49m\u001b[33;43m\"\u001b[39;49m\u001b[43m)\u001b[49m\u001b[43m,\u001b[49m\u001b[43m \u001b[49m\u001b[43mblank\u001b[49m\u001b[43m=\u001b[49m\u001b[38;5;28;43;01mTrue\u001b[39;49;00m\u001b[43m,\u001b[49m\u001b[43m \u001b[49m\u001b[43mnull\u001b[49m\u001b[43m=\u001b[49m\u001b[38;5;28;43;01mTrue\u001b[39;49;00m\u001b[43m)\u001b[49m\n",
      "\u001b[36mFile \u001b[39m\u001b[32mc:\\Users\\Admin\\AppData\\Local\\Programs\\Python\\Python311\\Lib\\site-packages\\django\\db\\models\\base.py:129\u001b[39m, in \u001b[36mModelBase.__new__\u001b[39m\u001b[34m(cls, name, bases, attrs, **kwargs)\u001b[39m\n\u001b[32m    126\u001b[39m app_label = \u001b[38;5;28;01mNone\u001b[39;00m\n\u001b[32m    128\u001b[39m \u001b[38;5;66;03m# Look for an application configuration to attach the model to.\u001b[39;00m\n\u001b[32m--> \u001b[39m\u001b[32m129\u001b[39m app_config = \u001b[43mapps\u001b[49m\u001b[43m.\u001b[49m\u001b[43mget_containing_app_config\u001b[49m\u001b[43m(\u001b[49m\u001b[43mmodule\u001b[49m\u001b[43m)\u001b[49m\n\u001b[32m    131\u001b[39m \u001b[38;5;28;01mif\u001b[39;00m \u001b[38;5;28mgetattr\u001b[39m(meta, \u001b[33m\"\u001b[39m\u001b[33mapp_label\u001b[39m\u001b[33m\"\u001b[39m, \u001b[38;5;28;01mNone\u001b[39;00m) \u001b[38;5;129;01mis\u001b[39;00m \u001b[38;5;28;01mNone\u001b[39;00m:\n\u001b[32m    132\u001b[39m     \u001b[38;5;28;01mif\u001b[39;00m app_config \u001b[38;5;129;01mis\u001b[39;00m \u001b[38;5;28;01mNone\u001b[39;00m:\n",
      "\u001b[36mFile \u001b[39m\u001b[32mc:\\Users\\Admin\\AppData\\Local\\Programs\\Python\\Python311\\Lib\\site-packages\\django\\apps\\registry.py:260\u001b[39m, in \u001b[36mApps.get_containing_app_config\u001b[39m\u001b[34m(self, object_name)\u001b[39m\n\u001b[32m    251\u001b[39m \u001b[38;5;28;01mdef\u001b[39;00m\u001b[38;5;250m \u001b[39m\u001b[34mget_containing_app_config\u001b[39m(\u001b[38;5;28mself\u001b[39m, object_name):\n\u001b[32m    252\u001b[39m \u001b[38;5;250m    \u001b[39m\u001b[33;03m\"\"\"\u001b[39;00m\n\u001b[32m    253\u001b[39m \u001b[33;03m    Look for an app config containing a given object.\u001b[39;00m\n\u001b[32m    254\u001b[39m \n\u001b[32m   (...)\u001b[39m\u001b[32m    258\u001b[39m \u001b[33;03m    Return None if the object isn't in any registered app config.\u001b[39;00m\n\u001b[32m    259\u001b[39m \u001b[33;03m    \"\"\"\u001b[39;00m\n\u001b[32m--> \u001b[39m\u001b[32m260\u001b[39m     \u001b[38;5;28;43mself\u001b[39;49m\u001b[43m.\u001b[49m\u001b[43mcheck_apps_ready\u001b[49m\u001b[43m(\u001b[49m\u001b[43m)\u001b[49m\n\u001b[32m    261\u001b[39m     candidates = []\n\u001b[32m    262\u001b[39m     \u001b[38;5;28;01mfor\u001b[39;00m app_config \u001b[38;5;129;01min\u001b[39;00m \u001b[38;5;28mself\u001b[39m.app_configs.values():\n",
      "\u001b[36mFile \u001b[39m\u001b[32mc:\\Users\\Admin\\AppData\\Local\\Programs\\Python\\Python311\\Lib\\site-packages\\django\\apps\\registry.py:137\u001b[39m, in \u001b[36mApps.check_apps_ready\u001b[39m\u001b[34m(self)\u001b[39m\n\u001b[32m    132\u001b[39m \u001b[38;5;28;01mfrom\u001b[39;00m\u001b[38;5;250m \u001b[39m\u001b[34;01mdjango\u001b[39;00m\u001b[34;01m.\u001b[39;00m\u001b[34;01mconf\u001b[39;00m\u001b[38;5;250m \u001b[39m\u001b[38;5;28;01mimport\u001b[39;00m settings\n\u001b[32m    134\u001b[39m \u001b[38;5;66;03m# If \"not ready\" is due to unconfigured settings, accessing\u001b[39;00m\n\u001b[32m    135\u001b[39m \u001b[38;5;66;03m# INSTALLED_APPS raises a more helpful ImproperlyConfigured\u001b[39;00m\n\u001b[32m    136\u001b[39m \u001b[38;5;66;03m# exception.\u001b[39;00m\n\u001b[32m--> \u001b[39m\u001b[32m137\u001b[39m \u001b[43msettings\u001b[49m\u001b[43m.\u001b[49m\u001b[43mINSTALLED_APPS\u001b[49m\n\u001b[32m    138\u001b[39m \u001b[38;5;28;01mraise\u001b[39;00m AppRegistryNotReady(\u001b[33m\"\u001b[39m\u001b[33mApps aren\u001b[39m\u001b[33m'\u001b[39m\u001b[33mt loaded yet.\u001b[39m\u001b[33m\"\u001b[39m)\n",
      "\u001b[36mFile \u001b[39m\u001b[32mc:\\Users\\Admin\\AppData\\Local\\Programs\\Python\\Python311\\Lib\\site-packages\\django\\conf\\__init__.py:102\u001b[39m, in \u001b[36mLazySettings.__getattr__\u001b[39m\u001b[34m(self, name)\u001b[39m\n\u001b[32m    100\u001b[39m \u001b[38;5;250m\u001b[39m\u001b[33;03m\"\"\"Return the value of a setting and cache it in self.__dict__.\"\"\"\u001b[39;00m\n\u001b[32m    101\u001b[39m \u001b[38;5;28;01mif\u001b[39;00m (_wrapped := \u001b[38;5;28mself\u001b[39m._wrapped) \u001b[38;5;129;01mis\u001b[39;00m empty:\n\u001b[32m--> \u001b[39m\u001b[32m102\u001b[39m     \u001b[38;5;28;43mself\u001b[39;49m\u001b[43m.\u001b[49m\u001b[43m_setup\u001b[49m\u001b[43m(\u001b[49m\u001b[43mname\u001b[49m\u001b[43m)\u001b[49m\n\u001b[32m    103\u001b[39m     _wrapped = \u001b[38;5;28mself\u001b[39m._wrapped\n\u001b[32m    104\u001b[39m val = \u001b[38;5;28mgetattr\u001b[39m(_wrapped, name)\n",
      "\u001b[36mFile \u001b[39m\u001b[32mc:\\Users\\Admin\\AppData\\Local\\Programs\\Python\\Python311\\Lib\\site-packages\\django\\conf\\__init__.py:82\u001b[39m, in \u001b[36mLazySettings._setup\u001b[39m\u001b[34m(self, name)\u001b[39m\n\u001b[32m     80\u001b[39m \u001b[38;5;28;01mif\u001b[39;00m \u001b[38;5;129;01mnot\u001b[39;00m settings_module:\n\u001b[32m     81\u001b[39m     desc = (\u001b[33m\"\u001b[39m\u001b[33msetting \u001b[39m\u001b[38;5;132;01m%s\u001b[39;00m\u001b[33m\"\u001b[39m % name) \u001b[38;5;28;01mif\u001b[39;00m name \u001b[38;5;28;01melse\u001b[39;00m \u001b[33m\"\u001b[39m\u001b[33msettings\u001b[39m\u001b[33m\"\u001b[39m\n\u001b[32m---> \u001b[39m\u001b[32m82\u001b[39m     \u001b[38;5;28;01mraise\u001b[39;00m ImproperlyConfigured(\n\u001b[32m     83\u001b[39m         \u001b[33m\"\u001b[39m\u001b[33mRequested \u001b[39m\u001b[38;5;132;01m%s\u001b[39;00m\u001b[33m, but settings are not configured. \u001b[39m\u001b[33m\"\u001b[39m\n\u001b[32m     84\u001b[39m         \u001b[33m\"\u001b[39m\u001b[33mYou must either define the environment variable \u001b[39m\u001b[38;5;132;01m%s\u001b[39;00m\u001b[33m \u001b[39m\u001b[33m\"\u001b[39m\n\u001b[32m     85\u001b[39m         \u001b[33m\"\u001b[39m\u001b[33mor call settings.configure() before accessing settings.\u001b[39m\u001b[33m\"\u001b[39m\n\u001b[32m     86\u001b[39m         % (desc, ENVIRONMENT_VARIABLE)\n\u001b[32m     87\u001b[39m     )\n\u001b[32m     89\u001b[39m \u001b[38;5;28mself\u001b[39m._wrapped = Settings(settings_module)\n",
      "\u001b[31mImproperlyConfigured\u001b[39m: Requested setting INSTALLED_APPS, but settings are not configured. You must either define the environment variable DJANGO_SETTINGS_MODULE or call settings.configure() before accessing settings."
     ]
    }
   ],
   "source": [
    "# Mô hình dữ liệu Django (rút gọn)\n",
    "from django.db import models\n",
    "from django.contrib.auth.models import User\n",
    "\n",
    "class Department(models.Model):\n",
    "    name = models.CharField(max_length=100)\n",
    "\n",
    "class Position(models.Model):\n",
    "    name = models.CharField(max_length=100)\n",
    "\n",
    "class Profile(models.Model):\n",
    "    user = models.OneToOneField(User, on_delete=models.CASCADE)\n",
    "    department = models.ForeignKey(Department, on_delete=models.SET_NULL, null=True)\n",
    "    position = models.ForeignKey(Position, on_delete=models.SET_NULL, null=True)\n",
    "\n",
    "class DocumentCategory(models.Model):\n",
    "    name = models.CharField(max_length=100)\n",
    "\n",
    "class DocumentType(models.Model):\n",
    "    name = models.CharField(max_length=100)\n",
    "    category = models.ForeignKey(DocumentCategory, on_delete=models.CASCADE)\n",
    "\n",
    "class Document(models.Model):\n",
    "    title = models.CharField(max_length=200)\n",
    "    document_type = models.ForeignKey(DocumentType, on_delete=models.SET_NULL, null=True)\n",
    "    category = models.ForeignKey(DocumentCategory, on_delete=models.SET_NULL, null=True)\n",
    "    file = models.FileField(upload_to='documents/')\n",
    "    creator = models.ForeignKey(User, on_delete=models.SET_NULL, null=True)\n",
    "    created_at = models.DateTimeField(auto_now_add=True)\n",
    "    metadata = models.JSONField(default=dict)"
   ]
  },
  {
   "cell_type": "markdown",
   "id": "8ecfe786",
   "metadata": {},
   "source": [
    "## 4. Luồng hoạt động chính\n",
    "\n",
    "1. **Đăng nhập, phân quyền:** Người dùng đăng nhập, hệ thống xác định vai trò/phòng ban\n",
    "2. **Tải lên tài liệu:** Hỗ trợ nhiều định dạng, tự động trích xuất metadata, OCR nếu là ảnh\n",
    "3. **AI xử lý:** Gửi tài liệu đến FastAPI/open-notebook để tóm tắt, gắn thẻ, trích xuất thông tin\n",
    "4. **Lưu trữ & phân quyền:** Lưu metadata, phân quyền truy cập/chỉnh sửa/tải về\n",
    "5. **Tìm kiếm, thống kê:** Tìm kiếm toàn văn, lọc theo loại, phòng ban, dự án; thống kê số lượng, biểu đồ\n",
    "6. **Ghi chú AI:** Sinh ghi chú, trả lời truy vấn, gợi ý câu hỏi liên quan tài liệu"
   ]
  },
  {
   "cell_type": "code",
   "execution_count": 3,
   "id": "aa92b16e",
   "metadata": {},
   "outputs": [
    {
     "ename": "ModuleNotFoundError",
     "evalue": "No module named 'open_notebook'",
     "output_type": "error",
     "traceback": [
      "\u001b[31m---------------------------------------------------------------------------\u001b[39m",
      "\u001b[31mModuleNotFoundError\u001b[39m                       Traceback (most recent call last)",
      "\u001b[36mCell\u001b[39m\u001b[36m \u001b[39m\u001b[32mIn[3]\u001b[39m\u001b[32m, line 3\u001b[39m\n\u001b[32m      1\u001b[39m \u001b[38;5;66;03m# FastAPI endpoint tích hợp open-notebook (ví dụ)\u001b[39;00m\n\u001b[32m      2\u001b[39m \u001b[38;5;28;01mfrom\u001b[39;00m\u001b[38;5;250m \u001b[39m\u001b[34;01mfastapi\u001b[39;00m\u001b[38;5;250m \u001b[39m\u001b[38;5;28;01mimport\u001b[39;00m FastAPI, UploadFile, File\n\u001b[32m----> \u001b[39m\u001b[32m3\u001b[39m \u001b[38;5;28;01mfrom\u001b[39;00m\u001b[38;5;250m \u001b[39m\u001b[34;01mopen_notebook\u001b[39;00m\u001b[38;5;250m \u001b[39m\u001b[38;5;28;01mimport\u001b[39;00m process_document\n\u001b[32m      5\u001b[39m app = FastAPI()\n\u001b[32m      7\u001b[39m \u001b[38;5;129m@app\u001b[39m.post(\u001b[33m\"\u001b[39m\u001b[33m/ai/summary/\u001b[39m\u001b[33m\"\u001b[39m)\n\u001b[32m      8\u001b[39m \u001b[38;5;28;01masync\u001b[39;00m \u001b[38;5;28;01mdef\u001b[39;00m\u001b[38;5;250m \u001b[39m\u001b[34mai_summary\u001b[39m(file: UploadFile = File(...)):\n",
      "\u001b[31mModuleNotFoundError\u001b[39m: No module named 'open_notebook'"
     ]
    }
   ],
   "source": [
    "# FastAPI endpoint tích hợp open-notebook (ví dụ)\n",
    "from fastapi import FastAPI, UploadFile, File\n",
    "from open_notebook import process_document\n",
    "\n",
    "app = FastAPI()\n",
    "\n",
    "@app.post(\"/ai/summary/\")\n",
    "async def ai_summary(file: UploadFile = File(...)):\n",
    "    content = await file.read()\n",
    "    result = process_document(content)\n",
    "    return {\n",
    "        \"summary\": result[\"summary\"],\n",
    "        \"metadata\": result[\"metadata\"],\n",
    "        \"tags\": result[\"tags\"]\n",
    "    }"
   ]
  },
  {
   "cell_type": "markdown",
   "id": "90b53b13",
   "metadata": {},
   "source": [
    "## 5. Giao diện quản lý tài liệu\n",
    "\n",
    "- **Trang chủ:** Thống kê tổng quan, số lượng tài liệu, biểu đồ phân loại, hoạt động gần đây\n",
    "- **Danh sách tài liệu:** Lọc, tìm kiếm, phân loại, tải về, xem chi tiết\n",
    "- **Tải lên tài liệu:** Hỗ trợ nhiều định dạng, tự động trích xuất metadata\n",
    "- **Chi tiết tài liệu:** Hiển thị nội dung, metadata, ghi chú AI, lịch sử chỉnh sửa\n",
    "- **Phân quyền:** Quản lý quyền truy cập, chỉnh sửa, phê duyệt tài liệu"
   ]
  },
  {
   "cell_type": "markdown",
   "id": "cc0f4d06",
   "metadata": {},
   "source": [
    "## 6. Bảo mật & phân quyền\n",
    "\n",
    "- Phân quyền theo vai trò, phòng ban, dự án\n",
    "- Tài liệu quan trọng cần phê duyệt trước khi chia sẻ\n",
    "- Lưu lịch sử truy cập, chỉnh sửa\n",
    "- Hỗ trợ xác thực hai lớp (2FA) nếu cần"
   ]
  },
  {
   "cell_type": "markdown",
   "id": "dbb73278",
   "metadata": {},
   "source": [
    "## 7. Kết luận\n",
    "\n",
    "Hệ thống Web AI quản lý công văn giúp tự động hóa lưu trữ, tìm kiếm, phân loại, và khai thác thông tin tài liệu hành chính, tăng hiệu quả quản lý và bảo mật thông tin cho tổ chức/doanh nghiệp."
   ]
  }
 ],
 "metadata": {
  "kernelspec": {
   "display_name": "Python 3",
   "language": "python",
   "name": "python3"
  },
  "language_info": {
   "codemirror_mode": {
    "name": "ipython",
    "version": 3
   },
   "file_extension": ".py",
   "mimetype": "text/x-python",
   "name": "python",
   "nbconvert_exporter": "python",
   "pygments_lexer": "ipython3",
   "version": "3.11.0"
  }
 },
 "nbformat": 4,
 "nbformat_minor": 5
}
